{
 "cells": [
  {
   "cell_type": "markdown",
   "metadata": {},
   "source": [
    "# Ajuste de Modelo usando MC\n",
    "- Problema: Tenemos pocos datos experimentales como para hacer un buen ajuste de un modelo.\n",
    "\n",
    "- Solución: Realizamos simulaciones MC de datos sintéticos para estimar: 1) valores promedio de los parámetros para del modelo y 2) los errores de dichos parámetros.\n",
    "\n",
    "Pasos a seguir:\n",
    "\n",
    "1) Obtenemos los datos experimentales con sus respectivos errores.\n",
    "\n",
    "2) Hacemos un ajuste \"rápido\" de nuestro modelo.\n",
    "\n",
    "3) Utilizando el ajuste anterior realizamos un número gránde N de simulaciones MC. Cada simulación consistirá en general datos sintéticos que tengan el mismo número de puntos que los datos experimentales.\n",
    "\n",
    "4) A partir de las N simulaciones obtenemos una distribución de valores de los parámetros del modelo. De aquí podemos obtener un valor medio para cada parámetro, así como su desviación estándar."
   ]
  },
  {
   "cell_type": "code",
   "execution_count": 1,
   "metadata": {},
   "outputs": [],
   "source": [
    "# Importamos las librerías necesarias\n",
    "import numpy as np\n",
    "import matplotlib.pyplot as plt\n",
    "from scipy import optimize\n",
    "# LaTeX\n",
    "plt.rc('font', family='serif')\n",
    "plt.rc('text', usetex=True)"
   ]
  },
  {
   "cell_type": "code",
   "execution_count": 27,
   "metadata": {},
   "outputs": [],
   "source": [
    "# Creamos unos datos \"experimentales\"\n",
    "# No hay que hacerle mucho caso\n",
    "\n",
    "np.random.seed(1323623)\n",
    "\n",
    "xmin = 0.5\n",
    "xmax = 3.0\n",
    "n_data = 10\n",
    "\n",
    "# Parámetros reales del modelo\n",
    "# En principio estos valores no los conocemos\n",
    "a_real =  1.5\n",
    "b_real = -1.0\n",
    "\n",
    "x_exp   = np.random.uniform(xmin,xmax,size=n_data)\n",
    "y_real  = a_real * x_exp**b_real\n",
    "s_error = 0.1/x_exp\n",
    "y_exp   = y_real + np.random.normal(scale=s_error,size=np.size(y_real))"
   ]
  },
  {
   "cell_type": "code",
   "execution_count": 28,
   "metadata": {},
   "outputs": [
    {
     "data": {
      "text/plain": [
       "Text(0, 0.5, 'y')"
      ]
     },
     "execution_count": 28,
     "metadata": {},
     "output_type": "execute_result"
    },
    {
     "data": {
      "image/png": "[encoded data removed]",
      "text/plain": [
       "<Figure size 432x288 with 1 Axes>"
      ]
     },
     "metadata": {
      "needs_background": "light"
     },
     "output_type": "display_data"
    }
   ],
   "source": [
    "# Graficamos los datos experimentales\n",
    "error = plt.errorbar(x_exp,y_exp,yerr=s_error,lw=0,elinewidth=2,ecolor=\"b\",fmt='ko',markersize=4)\n",
    "plt.xlabel(\"x\")\n",
    "plt.ylabel(\"y\")"
   ]
  },
  {
   "cell_type": "markdown",
   "metadata": {},
   "source": [
    "Para saber qué modelo ajustar, necesitamos un buen _prior_\n",
    "\n",
    "- prior: cualquier cosa que me diga algo sobre lo que estoy observando\n",
    "\n",
    "Para este ejemplo nuestro _prior_ será suponer que los datos siguen una tendencia que va como\n",
    "$$\n",
    "y \\propto \\frac{1}{x^2}\n",
    "$$\n",
    "\n",
    "Entonces el modelo que ajustaremos, siguiendo nuestro _prior_ será:\n",
    "\n",
    "$$\n",
    "y(x|a,b) = \\frac{a}{x^b}\n",
    "$$"
   ]
  },
  {
   "cell_type": "code",
   "execution_count": 29,
   "metadata": {},
   "outputs": [],
   "source": [
    "# Utilizamos nuestro prior y ajustamos el modelo elegido\n",
    "def power_law(x,a,b):\n",
    "    return a*x**b"
   ]
  },
  {
   "cell_type": "code",
   "execution_count": 38,
   "metadata": {},
   "outputs": [
    {
     "name": "stdout",
     "output_type": "stream",
     "text": [
      "Los parámetros son a = 1.495 y b = -1.097\n"
     ]
    }
   ],
   "source": [
    "# El prior del prior. Qué parámetros pienso yo que se le ajusta mejor a lo que veo.\n",
    "vGuess = [1.0,2.0] # Es a ojo \n",
    "\n",
    "# Hacemos el ajuste\n",
    "vParams, aCova = optimize.curve_fit(power_law,x_exp,y_exp,vGuess)\n",
    "print(\"Los parámetros son a = {:.3f} y b = {:.3f}\".format(vParams[0],vParams[1]))"
   ]
  },
  {
   "cell_type": "code",
   "execution_count": 39,
   "metadata": {},
   "outputs": [
    {
     "data": {
      "text/plain": [
       "Text(0, 0.5, 'y')"
      ]
     },
     "execution_count": 39,
     "metadata": {},
     "output_type": "execute_result"
    },
    {
     "data": {
      "image/png": "[encoded data removed]",
      "text/plain": [
       "<Figure size 432x288 with 1 Axes>"
      ]
     },
     "metadata": {
      "needs_background": "light"
     },
     "output_type": "display_data"
    }
   ],
   "source": [
    "# Plotteamos el ajuste con los datos\n",
    "x_fine = np.linspace(xmin,xmax,100)\n",
    "error = plt.errorbar(x_exp,y_exp,yerr=s_error,lw=0,elinewidth=2,ecolor=\"b\",fmt='ko',markersize=4)\n",
    "fit   = plt.plot(x_fine,power_law(x_fine,*vParams),\"g-\",lw=2)\n",
    "plt.xlabel(\"x\")\n",
    "plt.ylabel(\"y\")"
   ]
  },
  {
   "cell_type": "markdown",
   "metadata": {},
   "source": [
    "## Simulaciones MC\n",
    "\n",
    "Debido al número tan reducido de datos experimentales, crearemos de manera aleatoria, y usando como _prior_ los parámetros del ajuste anterior, una serie de datos experimentales sintéticos, los cuales ajustaremos con el modelo, con lo cual obtenedremos una distribución de valores para los parámetros. A esto lo llamaremos simulaciones MC."
   ]
  },
  {
   "cell_type": "code",
   "execution_count": 40,
   "metadata": {},
   "outputs": [],
   "source": [
    "# Definimos el número de simulaciones MC que realizaremos\n",
    "\n",
    "n_sim = 10000\n",
    "FitParams = np.array([])"
   ]
  },
  {
   "cell_type": "markdown",
   "metadata": {},
   "source": [
    "Cada experimento sintético consistirá en distribuir de manera aleatoria y uniforme los valores de $x$ (x_sim), tomaremos el ajuste anterior para crear la variable dependiente $y$ (y_gen) y, de manera aleatoria siguiendo una distribución normal, crearemos los errores \"experimentales\" para los nuevos datos sintéticos."
   ]
  },
  {
   "cell_type": "code",
   "execution_count": 41,
   "metadata": {},
   "outputs": [],
   "source": [
    "# Empieza el MC\n",
    "for i in range(n_sim):\n",
    "    x_sim = np.random.uniform(0.5,3.0,size=np.size(x_exp)) # ojo, esto es otro prior porque no tiene que ser uniforme\n",
    "    y_gen = vParams[0]*x_sim**vParams[1] # Agarrar el ajuste anterior y ponerlo como prior de las simulaciones.\n",
    "    y_sim = y_gen + np.random.normal(scale=s_error,size=np.size(y_gen)) # Creamos los errores sintéticos usando como media el error experimental real\n",
    "    \n",
    "    try:\n",
    "        vsims, acova = optimize.curve_fit(power_law,x_sim,y_sim,vGuess)\n",
    "    except:\n",
    "        dumdum=1\n",
    "        continue # Pasa al siguiente loop\n",
    "        \n",
    "    if np.size(FitParams) < 1:\n",
    "        FitParams = np.copy(vsims)\n",
    "    else:\n",
    "        FitParams = np.vstack(( FitParams, vsims ))"
   ]
  },
  {
   "cell_type": "markdown",
   "metadata": {},
   "source": [
    "Graficamos las distribuciones de $a$ y $b$"
   ]
  },
  {
   "cell_type": "code",
   "execution_count": 42,
   "metadata": {},
   "outputs": [
    {
     "name": "stdout",
     "output_type": "stream",
     "text": [
      "Para el parámetro a\n",
      "Valor medio         1.494\n",
      "Desviación estándar 0.050\n"
     ]
    },
    {
     "data": {
      "text/plain": [
       "Text(0.5, 0, 'Parámetro a')"
      ]
     },
     "execution_count": 42,
     "metadata": {},
     "output_type": "execute_result"
    },
    {
     "data": {
      "image/png": "[encoded data removed]",
      "text/plain": [
       "<Figure size 432x288 with 1 Axes>"
      ]
     },
     "metadata": {
      "needs_background": "light"
     },
     "output_type": "display_data"
    }
   ],
   "source": [
    "# Calculamos el valor medio de los parámetros a\n",
    "print (\"Para el parámetro a\")\n",
    "print (\"Valor medio         {:.3f}\".format(np.median(FitParams[:,0])))\n",
    "print (\"Desviación estándar {:.3f}\".format(np.std(FitParams[:,0])))\n",
    "med_a = np.median(FitParams[:,0])\n",
    "std_a = np.std(FitParams[:,0])\n",
    "\n",
    "hist_a = plt.hist(FitParams[:,0],bins=1000)\n",
    "plt.xlim(1,2)\n",
    "plt.ylabel(\"Frecuencia\")\n",
    "plt.xlabel(\"Parámetro a\")"
   ]
  },
  {
   "cell_type": "code",
   "execution_count": 44,
   "metadata": {},
   "outputs": [
    {
     "name": "stdout",
     "output_type": "stream",
     "text": [
      "Para el parámetro b\n",
      "Valor medio         -1.097\n",
      "Desviación estándar  0.066\n"
     ]
    },
    {
     "data": {
      "text/plain": [
       "Text(0.5, 0, 'Parámetro b')"
      ]
     },
     "execution_count": 44,
     "metadata": {},
     "output_type": "execute_result"
    },
    {
     "data": {
      "image/png": "[encoded data removed]",
      "text/plain": [
       "<Figure size 432x288 with 1 Axes>"
      ]
     },
     "metadata": {
      "needs_background": "light"
     },
     "output_type": "display_data"
    }
   ],
   "source": [
    "# Calculamos el valor medio de los parámetros b\n",
    "print (\"Para el parámetro b\")\n",
    "print (\"Valor medio         {:.3f}\".format(np.median(FitParams[:,1])))\n",
    "print (\"Desviación estándar  {:.3f}\".format(np.std(FitParams[:,1])))\n",
    "med_b = np.median(FitParams[:,1])\n",
    "std_b = np.std(FitParams[:,1])\n",
    "\n",
    "hist_b = plt.hist(FitParams[:,1],bins=1000)\n",
    "plt.xlim(-1.6,-0.6)\n",
    "plt.ylabel(\"Frecuencia\")\n",
    "plt.xlabel(\"Parámetro b\")"
   ]
  },
  {
   "cell_type": "markdown",
   "metadata": {},
   "source": [
    "Graficamos el fit promedio junto con todos los posibles valores obtenidos"
   ]
  },
  {
   "cell_type": "code",
   "execution_count": 45,
   "metadata": {},
   "outputs": [
    {
     "data": {
      "text/plain": [
       "(0.0, 4.0)"
      ]
     },
     "execution_count": 45,
     "metadata": {},
     "output_type": "execute_result"
    },
    {
     "data": {
      "image/png": "[encoded data removed]",
      "text/plain": [
       "<Figure size 432x288 with 1 Axes>"
      ]
     },
     "metadata": {
      "needs_background": "light"
     },
     "output_type": "display_data"
    }
   ],
   "source": [
    "inds = np.random.randint(len(FitParams), size=100)\n",
    "\n",
    "x_fine = np.linspace(xmin,xmax,100)\n",
    "for ind in inds:\n",
    "    params = FitParams[ind]\n",
    "    plots = plt.plot(x_fine, power_law(x_fine,*params), \"C3\", alpha=0.1)\n",
    "    \n",
    "error = plt.errorbar(x_exp,y_exp,yerr=s_error,lw=0,elinewidth=2,ecolor=\"b\",fmt='ko',markersize=4)\n",
    "fit   = plt.plot(x_fine,power_law(x_fine,med_a,med_b),\"g-\",lw=2)\n",
    "plt.xlabel(\"x\")\n",
    "plt.ylabel(\"y\")\n",
    "plt.ylim(0,4)"
   ]
  },
  {
   "cell_type": "code",
   "execution_count": null,
   "metadata": {},
   "outputs": [],
   "source": []
  }
 ],
 "metadata": {
  "kernelspec": {
   "display_name": "Python 3",
   "language": "python",
   "name": "python3"
  },
  "language_info": {
   "codemirror_mode": {
    "name": "ipython",
    "version": 3
   },
   "file_extension": ".py",
   "mimetype": "text/x-python",
   "name": "python",
   "nbconvert_exporter": "python",
   "pygments_lexer": "ipython3",
   "version": "3.8.3"
  }
 },
 "nbformat": 4,
 "nbformat_minor": 4
}
