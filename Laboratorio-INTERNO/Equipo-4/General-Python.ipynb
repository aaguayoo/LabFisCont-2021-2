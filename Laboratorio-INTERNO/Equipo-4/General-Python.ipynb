{
 "cells": [
  {
   "cell_type": "markdown",
   "metadata": {},
   "source": [
    "# Python"
   ]
  },
  {
   "cell_type": "code",
   "execution_count": 2,
   "metadata": {},
   "outputs": [],
   "source": [
    "import numpy as np\n",
    "import scipy as sc\n",
    "import matplotlib.pyplot as plt\n",
    "import pandas as pd"
   ]
  },
  {
   "cell_type": "markdown",
   "metadata": {},
   "source": [
    "## Tipos de \"Entes\" de Python\n",
    "\n",
    "- Enteros\n",
    "- Reales\n",
    "- Strings (caracteres)\n",
    "- Rango\n",
    "- Conjuntos\n",
    "- Lista\n",
    "- Tuplas\n",
    "- Diccionarios\n",
    "- Decoradores\n",
    "- Funciones\n",
    "- Clases\n",
    "\n",
    "\n",
    "## Entes especiales según la clase\n",
    "- Arrays (numpy)\n",
    "- DataFrames (pandas)"
   ]
  },
  {
   "cell_type": "code",
   "execution_count": 18,
   "metadata": {},
   "outputs": [],
   "source": [
    "# Lista\n",
    "lista = [1,23.56,'char']"
   ]
  },
  {
   "cell_type": "code",
   "execution_count": 21,
   "metadata": {},
   "outputs": [],
   "source": [
    "# Diccionarios\n",
    "dic = {'Manzana' : 'rojo'}"
   ]
  },
  {
   "cell_type": "code",
   "execution_count": 26,
   "metadata": {},
   "outputs": [],
   "source": [
    "# Tuplas\n",
    "tupla = (4,2,3,4)"
   ]
  },
  {
   "cell_type": "markdown",
   "metadata": {},
   "source": [
    "## Sintaxis\n",
    "\n",
    "- Condicional IF: se hace algo si cierta propiedad se cumple"
   ]
  },
  {
   "cell_type": "code",
   "execution_count": 36,
   "metadata": {},
   "outputs": [
    {
     "name": "stdout",
     "output_type": "stream",
     "text": [
      "a = 1\n"
     ]
    }
   ],
   "source": [
    "# ==, <=, >=, !=, ...\n",
    "\n",
    "a=1\n",
    "\n",
    "if (a == 1):\n",
    "    print(\"a = {}\".format(a))\n",
    "elif (a < 1):\n",
    "    print(\"a es menor que 1\")\n",
    "else:\n",
    "    print(\"a es mayor que 1\")"
   ]
  },
  {
   "cell_type": "markdown",
   "metadata": {},
   "source": [
    "- Condicional WHILE: realiza una serie de instrucciones mientras cierta condición se cumpla."
   ]
  },
  {
   "cell_type": "code",
   "execution_count": 38,
   "metadata": {},
   "outputs": [
    {
     "name": "stdout",
     "output_type": "stream",
     "text": [
      "a sigue siendo menor que 1. El valor de a es -32\n",
      "a sigue siendo menor que 1. El valor de a es -31\n",
      "a sigue siendo menor que 1. El valor de a es -30\n",
      "a sigue siendo menor que 1. El valor de a es -29\n",
      "a sigue siendo menor que 1. El valor de a es -28\n",
      "a sigue siendo menor que 1. El valor de a es -27\n",
      "a sigue siendo menor que 1. El valor de a es -26\n",
      "a sigue siendo menor que 1. El valor de a es -25\n",
      "a sigue siendo menor que 1. El valor de a es -24\n",
      "a sigue siendo menor que 1. El valor de a es -23\n",
      "a sigue siendo menor que 1. El valor de a es -22\n",
      "a sigue siendo menor que 1. El valor de a es -21\n",
      "a sigue siendo menor que 1. El valor de a es -20\n",
      "a sigue siendo menor que 1. El valor de a es -19\n",
      "a sigue siendo menor que 1. El valor de a es -18\n",
      "a sigue siendo menor que 1. El valor de a es -17\n",
      "a sigue siendo menor que 1. El valor de a es -16\n",
      "a sigue siendo menor que 1. El valor de a es -15\n",
      "a sigue siendo menor que 1. El valor de a es -14\n",
      "a sigue siendo menor que 1. El valor de a es -13\n",
      "a sigue siendo menor que 1. El valor de a es -12\n",
      "a sigue siendo menor que 1. El valor de a es -11\n",
      "a sigue siendo menor que 1. El valor de a es -10\n",
      "a sigue siendo menor que 1. El valor de a es -9\n",
      "a sigue siendo menor que 1. El valor de a es -8\n",
      "a sigue siendo menor que 1. El valor de a es -7\n",
      "a sigue siendo menor que 1. El valor de a es -6\n",
      "a sigue siendo menor que 1. El valor de a es -5\n",
      "a sigue siendo menor que 1. El valor de a es -4\n",
      "a sigue siendo menor que 1. El valor de a es -3\n",
      "a sigue siendo menor que 1. El valor de a es -2\n",
      "a sigue siendo menor que 1. El valor de a es -1\n",
      "a sigue siendo menor que 1. El valor de a es 0\n"
     ]
    }
   ],
   "source": [
    "a = -32\n",
    "\n",
    "while (a < 1):\n",
    "    print(\"a sigue siendo menor que 1. El valor de a es {}\".format(a))\n",
    "    a += 1 # a = a + 1, a++"
   ]
  },
  {
   "cell_type": "markdown",
   "metadata": {},
   "source": [
    "- Bucle FOR: repetir una serie de instrucciones a lo largo de una lista (o arreglo) de valores."
   ]
  },
  {
   "cell_type": "code",
   "execution_count": 40,
   "metadata": {},
   "outputs": [
    {
     "name": "stdout",
     "output_type": "stream",
     "text": [
      "x = 0\n",
      "x = 1\n",
      "x = 2\n",
      "x = 3\n",
      "x = 4\n",
      "x = 5\n",
      "x = 6\n",
      "x = 7\n",
      "x = 8\n",
      "x = 9\n"
     ]
    }
   ],
   "source": [
    "for x in range(0,10):\n",
    "    print(\"x = {}\".format(x))"
   ]
  },
  {
   "cell_type": "code",
   "execution_count": 46,
   "metadata": {},
   "outputs": [
    {
     "name": "stdout",
     "output_type": "stream",
     "text": [
      "x = 0\n",
      "x = 1\n",
      "x = 2\n",
      "x = 3\n",
      "x = 4\n",
      "x = 5\n",
      "x = 6\n",
      "x = 7\n",
      "x = 8\n",
      "x = 9\n"
     ]
    }
   ],
   "source": [
    "lista = [x for x in range(0,10)]\n",
    "\n",
    "for x in lista:\n",
    "    print(\"x = {}\".format(x))"
   ]
  },
  {
   "cell_type": "code",
   "execution_count": 47,
   "metadata": {},
   "outputs": [
    {
     "name": "stdout",
     "output_type": "stream",
     "text": [
      "x = a\n",
      "x = b\n",
      "x = c\n"
     ]
    }
   ],
   "source": [
    "lista = ['a','b','c']\n",
    "\n",
    "for x in lista:\n",
    "    print(\"x = {}\".format(x))"
   ]
  },
  {
   "cell_type": "markdown",
   "metadata": {},
   "source": [
    "## Funciones"
   ]
  },
  {
   "cell_type": "code",
   "execution_count": 60,
   "metadata": {},
   "outputs": [],
   "source": [
    "def add(a,b):\n",
    "    c = a + b\n",
    "    return c"
   ]
  },
  {
   "cell_type": "code",
   "execution_count": 73,
   "metadata": {},
   "outputs": [],
   "source": [
    "def gen_add(*args,**kwargs):\n",
    "    suma = 0\n",
    "    for x in args:\n",
    "        suma += x\n",
    "    #print(\"El valor de a es {}\".format(kwargs['a']))\n",
    "    return suma"
   ]
  },
  {
   "cell_type": "code",
   "execution_count": 74,
   "metadata": {
    "scrolled": true
   },
   "outputs": [
    {
     "data": {
      "text/plain": [
       "55"
      ]
     },
     "execution_count": 74,
     "metadata": {},
     "output_type": "execute_result"
    }
   ],
   "source": [
    "gen_add(1,2,3,4,5,6,7,8,9,10,a='hola')"
   ]
  },
  {
   "cell_type": "code",
   "execution_count": 75,
   "metadata": {},
   "outputs": [],
   "source": [
    "def factorial(n):\n",
    "    fact=1\n",
    "    if n == 0:\n",
    "        return fact\n",
    "    for x in range(2,n+1):\n",
    "        fact *= x\n",
    "    return fact"
   ]
  },
  {
   "cell_type": "code",
   "execution_count": 81,
   "metadata": {},
   "outputs": [],
   "source": [
    "def factorial_rec(n):\n",
    "    fact = 1\n",
    "    if n == 0:\n",
    "        return 1\n",
    "    if n < 2:\n",
    "        return 1\n",
    "    else:\n",
    "        return n * factorial(n-1)"
   ]
  },
  {
   "cell_type": "code",
   "execution_count": 98,
   "metadata": {},
   "outputs": [
    {
     "data": {
      "text/plain": [
       "3628800"
      ]
     },
     "execution_count": 98,
     "metadata": {},
     "output_type": "execute_result"
    }
   ],
   "source": [
    "factorial_rec(10)"
   ]
  },
  {
   "cell_type": "markdown",
   "metadata": {},
   "source": [
    "## Decoradores\n",
    "\n",
    "Es una función que recibe como argumento otra función."
   ]
  },
  {
   "cell_type": "code",
   "execution_count": 91,
   "metadata": {},
   "outputs": [],
   "source": [
    "# Definimos a nuestro decorador\n",
    "def name(func):\n",
    "    def exec_w_name(a,b): # Esta función debe tener el mismo número de argumentos que func\n",
    "        print(\"La función {} se ha ejecutado\".format(func.__name__))\n",
    "        return func(a,b)\n",
    "    return exec_w_name"
   ]
  },
  {
   "cell_type": "code",
   "execution_count": 96,
   "metadata": {},
   "outputs": [],
   "source": [
    "@name\n",
    "def add(a,b):\n",
    "    c = a + b\n",
    "    return c"
   ]
  },
  {
   "cell_type": "code",
   "execution_count": 97,
   "metadata": {
    "scrolled": true
   },
   "outputs": [
    {
     "name": "stdout",
     "output_type": "stream",
     "text": [
      "La función add se ha ejecutado\n"
     ]
    },
    {
     "data": {
      "text/plain": [
       "3"
      ]
     },
     "execution_count": 97,
     "metadata": {},
     "output_type": "execute_result"
    }
   ],
   "source": [
    "add(1,2)"
   ]
  },
  {
   "cell_type": "markdown",
   "metadata": {},
   "source": [
    "## Clases"
   ]
  },
  {
   "cell_type": "code",
   "execution_count": 162,
   "metadata": {},
   "outputs": [],
   "source": [
    "class Operaciones_Basicas:\n",
    "\n",
    "    def __init__(self):\n",
    "        self.nadd=nadd\n",
    "        self.nprod=1\n",
    "        self.pi = 3.1416\n",
    "    \n",
    "    def add(self,*args,**kwargs):\n",
    "        suma = 0\n",
    "        for x in args:\n",
    "            suma += x\n",
    "        return suma\n",
    "    def prod(self,*args,**kwargs):\n",
    "        prod = 1\n",
    "        for x in args:\n",
    "            prod *= x\n",
    "        return prod"
   ]
  }
 ],
 "metadata": {
  "kernelspec": {
   "display_name": "Python 3",
   "language": "python",
   "name": "python3"
  },
  "language_info": {
   "codemirror_mode": {
    "name": "ipython",
    "version": 3
   },
   "file_extension": ".py",
   "mimetype": "text/x-python",
   "name": "python",
   "nbconvert_exporter": "python",
   "pygments_lexer": "ipython3",
   "version": "3.8.3"
  }
 },
 "nbformat": 4,
 "nbformat_minor": 4
}
